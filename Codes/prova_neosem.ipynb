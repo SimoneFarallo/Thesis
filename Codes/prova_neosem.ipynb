{
 "cells": [
  {
   "cell_type": "markdown",
   "metadata": {},
   "source": [
    "# Prova NeoSemantics\n",
    "\n",
    "https://towardsdatascience.com/traveling-tourist-part-1-import-wikidata-to-neo4j-with-neosemantics-library-f80235f40dc5"
   ]
  },
  {
   "cell_type": "code",
   "execution_count": 5,
   "metadata": {},
   "outputs": [],
   "source": [
    "from graphdatascience import GraphDataScience\n",
    "from neo4j import GraphDatabase\n",
    "\n"
   ]
  },
  {
   "cell_type": "code",
   "execution_count": 6,
   "metadata": {},
   "outputs": [],
   "source": [
    "\n",
    "driver = GraphDatabase.driver(uri='bolt://localhost:7687', auth=('neo4j','simone98'))\n",
    "session = driver.session()\n"
   ]
  },
  {
   "cell_type": "code",
   "execution_count": 7,
   "metadata": {},
   "outputs": [],
   "source": [
    "q1='''CALL n10s.graphconfig.init({handleVocabUris: \"IGNORE\"})'''# Inserire vincolo\n",
    "#session.run(q1)"
   ]
  },
  {
   "cell_type": "code",
   "execution_count": null,
   "metadata": {},
   "outputs": [],
   "source": [
    "q2='''CALL apoc.schema.assert(\n",
    "  {State:['id'], City:['id']},\n",
    "  {Resource:['uri']})'''# Richiamare schema\n",
    "#session.run(q2)"
   ]
  },
  {
   "cell_type": "code",
   "execution_count": 8,
   "metadata": {},
   "outputs": [],
   "source": [
    "q3='''WITH 'PREFIX sch: <http://schema.org/> \n",
    "CONSTRUCT{ ?item a sch:Monument; \n",
    "            sch:name ?monumentName; \n",
    "            sch:location ?location; \n",
    "            sch:img ?imageAsStr; \n",
    "            sch:ARCHITECTURE ?architecture. \n",
    "           ?architecture a sch:Architecture; \n",
    "            sch:name ?architectureName } \n",
    "WHERE { ?item wdt:P31 wd:Q4989906 . \n",
    "        ?item wdt:P17 wd:Q29 . \n",
    "        ?item rdfs:label ?monumentName . \n",
    "         filter(lang(?monumentName) = \"en\") \n",
    "        ?item wdt:P625 ?location . \n",
    "        ?item wdt:P149 ?architecture . \n",
    "        ?architecture rdfs:label ?architectureName .\n",
    "         filter(lang(?architectureName) = \"en\") \n",
    "        ?item wdt:P18 ?image . \n",
    "         bind(str(?image) as ?imageAsStr) }' AS sparql \n",
    "CALL n10s.rdf.import.fetch(\n",
    "  \"https://query.wikidata.org/sparql?query=\" +   \n",
    "   apoc.text.urlencode(sparql),\"JSON-LD\", \n",
    "   { headerParams: { Accept: \"application/ld+json\"} , \n",
    "     handleVocabUris: \"IGNORE\"}) \n",
    "YIELD terminationStatus, triplesLoaded\n",
    "RETURN terminationStatus, triplesLoaded''' #Caricare RDF  da WikiData\n",
    "#session.run(q3)"
   ]
  },
  {
   "cell_type": "code",
   "execution_count": 11,
   "metadata": {},
   "outputs": [
    {
     "name": "stdout",
     "output_type": "stream",
     "text": [
      "2.4.6\n"
     ]
    }
   ],
   "source": [
    "host = \"bolt://localhost:7687\"\n",
    "user = \"neo4j\"\n",
    "password= \"simone98\"\n",
    "\n",
    "\n",
    "gds = GraphDataScience(host, auth=(user, password))\n",
    "\n",
    "print(gds.version())"
   ]
  },
  {
   "cell_type": "code",
   "execution_count": null,
   "metadata": {},
   "outputs": [],
   "source": [
    "#Con questa query scarico dati da wikidata su causa e conseguenza delle malattie\n",
    "Q = '''WITH 'PREFIX sch: <http://schema.org/> \n",
    "CONSTRUCT {\n",
    "  ?item a sch:MedicalCondition;\n",
    "        sch:name ?diseaseName;\n",
    "        sch:cause ?cause;\n",
    "        sch:consequence ?consequence.\n",
    "  ?cause a sch:MedicalCondition;\n",
    "        sch:name ?causeName.\n",
    "  ?consequence a sch:MedicalCondition;\n",
    "              sch:name ?consequenceName.\n",
    "}\n",
    "WHERE {\n",
    "  ?item wdt:P31 wd:Q12136;  # Malattia (Q12136)\n",
    "        rdfs:label ?diseaseName.\n",
    "  FILTER(LANG(?diseaseName) = \"en\").\n",
    "  \n",
    "  OPTIONAL { \n",
    "    ?item wdt:P828 ?causeItem. # Proprietà per la causa della malattia\n",
    "    ?causeItem rdfs:label ?causeLabel.\n",
    "    FILTER(LANG(?causeLabel) = \"en\").\n",
    "    BIND(sch:cause AS ?cause).\n",
    "  }\n",
    "\n",
    "  OPTIONAL { \n",
    "    ?item wdt:P780 ?consequenceItem. # Proprietà per la conseguenza della malattia\n",
    "    ?consequenceItem rdfs:label ?consequenceLabel.\n",
    "    FILTER(LANG(?consequenceLabel) = \"en\").\n",
    "    BIND(sch:consequence AS ?consequence).\n",
    "  }\n",
    "}' AS sparql \n",
    "\n",
    "CALL n10s.rdf.import.fetch(\n",
    "  \"https://query.wikidata.org/sparql?query=\" +   \n",
    "   apoc.text.urlencode(sparql),\n",
    "  \"JSON-LD\", \n",
    "  { headerParams: { Accept: \"application/ld+json\"} , \n",
    "    handleVocabUris: \"IGNORE\"\n",
    "  }) \n",
    "\n",
    "YIELD terminationStatus, triplesLoaded\n",
    "RETURN terminationStatus, triplesLoaded;'''"
   ]
  },
  {
   "cell_type": "markdown",
   "metadata": {},
   "source": [
    "Si possono scaricare i grafi da WikiData attraverso query SPARQL il problema è che i dat provengono da Wikipeida quindi come fonte non è affidabile in ambito medico"
   ]
  },
  {
   "cell_type": "markdown",
   "metadata": {},
   "source": []
  }
 ],
 "metadata": {
  "kernelspec": {
   "display_name": "Python 3",
   "language": "python",
   "name": "python3"
  },
  "language_info": {
   "codemirror_mode": {
    "name": "ipython",
    "version": 3
   },
   "file_extension": ".py",
   "mimetype": "text/x-python",
   "name": "python",
   "nbconvert_exporter": "python",
   "pygments_lexer": "ipython3",
   "version": "3.10.0"
  }
 },
 "nbformat": 4,
 "nbformat_minor": 2
}
